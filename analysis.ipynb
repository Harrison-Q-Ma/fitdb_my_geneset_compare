{
 "cells": [
  {
   "cell_type": "code",
   "execution_count": null,
   "id": "65392b6e",
   "metadata": {},
   "outputs": [
    {
     "name": "stdout",
     "output_type": "stream",
     "text": [
      "Intel MKL WARNING: Support of Intel(R) Streaming SIMD Extensions 4.2 (Intel(R) SSE4.2) enabled only processors has been deprecated. Intel oneAPI Math Kernel Library 2025.0 will require Intel(R) Advanced Vector Extensions (Intel(R) AVX) instructions.\n",
      "Intel MKL WARNING: Support of Intel(R) Streaming SIMD Extensions 4.2 (Intel(R) SSE4.2) enabled only processors has been deprecated. Intel oneAPI Math Kernel Library 2025.0 will require Intel(R) Advanced Vector Extensions (Intel(R) AVX) instructions.\n"
     ]
    }
   ],
   "source": [
    "import anndata, h5py, numpy as np\n",
    "\n",
    "adata = anndata.read_h5ad(\"/Users/harrisonma/Downloads/rerun_download/projects/pilot_3_rerun/processed_data/pilot_3_spleen_dLN_rerun/multimodal/stitched_spots.h5ad\")\n",
    "\n",
    "# Try to peek at the column; this is where the exception happened\n",
    "print(\"Columns:\", adata.obs.columns.tolist())\n",
    "\n"
   ]
  },
  {
   "cell_type": "code",
   "execution_count": 3,
   "id": "6e788b32",
   "metadata": {},
   "outputs": [
    {
     "name": "stderr",
     "output_type": "stream",
     "text": [
      "/Library/Frameworks/Python.framework/Versions/3.10/lib/python3.10/site-packages/anndata/_core/anndata.py:1828: UserWarning: Observation names are not unique. To make them unique, call `.obs_names_make_unique`.\n",
      "  utils.warn_names_duplicates(\"obs\")\n"
     ]
    }
   ],
   "source": [
    "import scanpy as sc\n",
    "adata = sc.read_h5ad(\"/Users/harrisonma/Downloads/rerun_download/projects/pilot_3_rerun/processed_data/pilot_3_spleen_dLN_rerun/multimodal/stitched_spots.h5ad\")"
   ]
  },
  {
   "cell_type": "code",
   "execution_count": 1,
   "id": "555a0207",
   "metadata": {},
   "outputs": [
    {
     "name": "stdout",
     "output_type": "stream",
     "text": [
      "dtype: int8\n",
      "shape: (39708736,)\n",
      "first 10: [0 0 0 0 0 0 0 0 0 0]\n"
     ]
    }
   ],
   "source": [
    "import h5py\n",
    "with h5py.File(\"/Users/harrisonma/Downloads/rerun_download/projects/pilot_3_rerun/processed_data/pilot_3_spleen_dLN_rerun/multimodal/stitched_spots.h5ad\", \"r\") as f:\n",
    "    ds = f[\"obs\"][\"tile_id/codes\"]\n",
    "    print(\"dtype:\", ds.dtype)\n",
    "    print(\"shape:\", ds.shape)\n",
    "    # attempt to read a slice\n",
    "    try:\n",
    "        print(\"first 10:\", ds[0:10])\n",
    "    except Exception as e:\n",
    "        print(\"cannot read slice:\", e)"
   ]
  },
  {
   "cell_type": "code",
   "execution_count": 5,
   "id": "1fc2823b",
   "metadata": {},
   "outputs": [],
   "source": [
    "import pandas as pd"
   ]
  },
  {
   "cell_type": "code",
   "execution_count": null,
   "id": "bc602f8a",
   "metadata": {},
   "outputs": [],
   "source": [
    "adata.obs = pd.DataFrame([adata.obs_names]) "
   ]
  },
  {
   "cell_type": "code",
   "execution_count": 4,
   "id": "7f254da4",
   "metadata": {},
   "outputs": [
    {
     "data": {
      "text/plain": [
       "'CTTCTCGCAGCACATCCCTTTCTCACATCTAGAGCCACCAGCGGCATAGTAA'"
      ]
     },
     "execution_count": 4,
     "metadata": {},
     "output_type": "execute_result"
    }
   ],
   "source": [
    "'AATGATACGGCGACCACCGAGATCTACACTCTTTCCCTACACGACGCTCTTC'[::-1]"
   ]
  },
  {
   "cell_type": "code",
   "execution_count": null,
   "id": "7c1a5866",
   "metadata": {},
   "outputs": [],
   "source": [
    "NNNNNNNNNNNNNNNNNNNNNNNNNNNNNNNNNNNNNNNNNNNNNNNNNNNNNNNNNNNNNNNNNNNNNNNNNNNNNNNNNNNNNNNNNNNNNNAGTCTGCACACGAGAAGGCTAGA\n",
    "                                                                                       TCAGACGTGTGCTCTTCCGATCTCCGCTCGAATGGGTACAGTTRACCTGA/3SPC3/CTTCTCGCAGCACATCCCTTTCTCACATCTAGAGCCACCAGCGGCATAGTAA"
   ]
  },
  {
   "cell_type": "code",
   "execution_count": null,
   "id": "8e32a980",
   "metadata": {},
   "outputs": [],
   "source": []
  },
  {
   "cell_type": "code",
   "execution_count": 3,
   "id": "fb64d579",
   "metadata": {},
   "outputs": [
    {
     "name": "stdout",
     "output_type": "stream",
     "text": [
      "AGTCTGCACACGAGAAGGCTAGA\n"
     ]
    }
   ],
   "source": [
    "# find complement of TCTAGCCTTCTCGTGTGCAGACT\n",
    "def reverse_complement(seq):\n",
    "    complement = {'A': 'T', 'T': 'A', 'C': 'G', 'G': 'C', 'N': 'N'}\n",
    "    return ''.join(complement[base] for base in reversed(seq))\n",
    "\n",
    "print(reverse_complement(\"TCTAGCCTTCTCGTGTGCAGACT\"))"
   ]
  },
  {
   "cell_type": "code",
   "execution_count": 3,
   "id": "f54891c4",
   "metadata": {},
   "outputs": [],
   "source": [
    "adata.obs.fillna(0, inplace=True)"
   ]
  },
  {
   "cell_type": "code",
   "execution_count": null,
   "id": "98ed7589",
   "metadata": {},
   "outputs": [],
   "source": []
  },
  {
   "cell_type": "code",
   "execution_count": null,
   "id": "efcb7be5",
   "metadata": {},
   "outputs": [],
   "source": [
    "adata.write(\"/Users/harrisonma/Downloads/rerun_download/projects/pilot_3_rerun/processed_data/pilot_3_spleen_dLN_rerun/multimodal/stitched_spots.h5ad\")"
   ]
  },
  {
   "cell_type": "code",
   "execution_count": null,
   "id": "6280f5f2",
   "metadata": {},
   "outputs": [],
   "source": [
    "# If the categorical access blows up again, inspect via h5py directly:\n",
    "with h5py.File(\"/Users/harrisonma/Downloads/rerun_download/projects/pilot_3_rerun/processed_data/pilot_3_spleen_dLN_rerun/multimodal/stitched_spots.h5ad\", \"r\") as f:\n",
    "    ds = f[\"obs\"][\"tile_id/codes\"]\n",
    "    print(\"dtype:\", ds.dtype)\n",
    "    print(\"shape:\", ds.shape)\n",
    "    # attempt to read a slice\n",
    "    try:\n",
    "        print(\"first 10:\", ds[0:10])\n",
    "    except Exception as e:\n",
    "        print(\"cannot read slice:\", e)"
   ]
  },
  {
   "cell_type": "code",
   "execution_count": null,
   "id": "0bcc1619",
   "metadata": {},
   "outputs": [],
   "source": []
  }
 ],
 "metadata": {
  "kernelspec": {
   "display_name": "Python 3",
   "language": "python",
   "name": "python3"
  },
  "language_info": {
   "codemirror_mode": {
    "name": "ipython",
    "version": 3
   },
   "file_extension": ".py",
   "mimetype": "text/x-python",
   "name": "python",
   "nbconvert_exporter": "python",
   "pygments_lexer": "ipython3",
   "version": "3.10.4"
  }
 },
 "nbformat": 4,
 "nbformat_minor": 5
}
